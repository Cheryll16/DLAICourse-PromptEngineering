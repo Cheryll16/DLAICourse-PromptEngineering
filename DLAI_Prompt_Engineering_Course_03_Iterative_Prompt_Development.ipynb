{
  "nbformat": 4,
  "nbformat_minor": 0,
  "metadata": {
    "colab": {
      "provenance": []
    },
    "kernelspec": {
      "name": "python3",
      "display_name": "Python 3"
    },
    "language_info": {
      "name": "python"
    }
  },
  "cells": [
    {
      "cell_type": "markdown",
      "source": [
        "# **Iterative Prompt Develelopment**\n",
        "\n",
        "The idea behind the interative prompt development is just as the idea behind data science. We need to compare our expected result with the actual output to refine our algorithm (here: prompt).\n",
        "\n",
        "This course aims to clarify the idea and process of iterative prompt engineering with an example of product description.\n",
        "In this lesson, you'll iteratively analyze and refine your prompts to generate marketing copy from a product fact sheet."
      ],
      "metadata": {
        "id": "EjaK708mK6aL"
      }
    },
    {
      "cell_type": "markdown",
      "source": [
        "## **Set Up**"
      ],
      "metadata": {
        "id": "yt0Q0XACK-L7"
      }
    },
    {
      "cell_type": "code",
      "execution_count": null,
      "metadata": {
        "id": "nlDXqfuvKzMs",
        "colab": {
          "base_uri": "https://localhost:8080/"
        },
        "outputId": "c841b5f9-b825-47b0-f5d2-9d37ab793540"
      },
      "outputs": [
        {
          "output_type": "stream",
          "name": "stdout",
          "text": [
            "Requirement already satisfied: openai in /usr/local/lib/python3.10/dist-packages (0.27.8)\n",
            "Requirement already satisfied: requests>=2.20 in /usr/local/lib/python3.10/dist-packages (from openai) (2.31.0)\n",
            "Requirement already satisfied: tqdm in /usr/local/lib/python3.10/dist-packages (from openai) (4.66.1)\n",
            "Requirement already satisfied: aiohttp in /usr/local/lib/python3.10/dist-packages (from openai) (3.8.5)\n",
            "Requirement already satisfied: charset-normalizer<4,>=2 in /usr/local/lib/python3.10/dist-packages (from requests>=2.20->openai) (3.2.0)\n",
            "Requirement already satisfied: idna<4,>=2.5 in /usr/local/lib/python3.10/dist-packages (from requests>=2.20->openai) (3.4)\n",
            "Requirement already satisfied: urllib3<3,>=1.21.1 in /usr/local/lib/python3.10/dist-packages (from requests>=2.20->openai) (2.0.4)\n",
            "Requirement already satisfied: certifi>=2017.4.17 in /usr/local/lib/python3.10/dist-packages (from requests>=2.20->openai) (2023.7.22)\n",
            "Requirement already satisfied: attrs>=17.3.0 in /usr/local/lib/python3.10/dist-packages (from aiohttp->openai) (23.1.0)\n",
            "Requirement already satisfied: multidict<7.0,>=4.5 in /usr/local/lib/python3.10/dist-packages (from aiohttp->openai) (6.0.4)\n",
            "Requirement already satisfied: async-timeout<5.0,>=4.0.0a3 in /usr/local/lib/python3.10/dist-packages (from aiohttp->openai) (4.0.3)\n",
            "Requirement already satisfied: yarl<2.0,>=1.0 in /usr/local/lib/python3.10/dist-packages (from aiohttp->openai) (1.9.2)\n",
            "Requirement already satisfied: frozenlist>=1.1.1 in /usr/local/lib/python3.10/dist-packages (from aiohttp->openai) (1.4.0)\n",
            "Requirement already satisfied: aiosignal>=1.1.2 in /usr/local/lib/python3.10/dist-packages (from aiohttp->openai) (1.3.1)\n"
          ]
        }
      ],
      "source": [
        "!pip install openai\n",
        "import openai\n",
        "import os\n",
        "\n",
        "\"\"\"\n",
        "from dotenv import load_dotenv, find_dotenv\n",
        "_ = load_dotenv(find_dotenv()) # read local .env file\n",
        "\n",
        "openai.api_key  = os.getenv('OPENAI_API_KEY')\n",
        "\"\"\"\n",
        "openai.api_key = \"sk-xxx\""
      ]
    },
    {
      "cell_type": "code",
      "source": [
        "def get_completion(prompt, model=\"gpt-3.5-turbo\"):\n",
        "    messages = [{\"role\": \"user\", \"content\": prompt}]\n",
        "    response = openai.ChatCompletion.create(\n",
        "        model=model,\n",
        "        messages=messages,\n",
        "        temperature=0, # this is the degree of randomness of the model's output\n",
        "    )\n",
        "    return response.choices[0].message[\"content\"]"
      ],
      "metadata": {
        "id": "ZIF3xh5fLFRN"
      },
      "execution_count": null,
      "outputs": []
    },
    {
      "cell_type": "markdown",
      "source": [
        "### **Generate a marketing product description from a product fact sheet**"
      ],
      "metadata": {
        "id": "halvxoHlLHQ7"
      }
    },
    {
      "cell_type": "code",
      "source": [
        "fact_sheet_chair = \"\"\"\n",
        "OVERVIEW\n",
        "- Part of a beautiful family of mid-century inspired office furniture,\n",
        "including filing cabinets, desks, bookcases, meeting tables, and more.\n",
        "- Several options of shell color and base finishes.\n",
        "- Available with plastic back and front upholstery (SWC-100)\n",
        "or full upholstery (SWC-110) in 10 fabric and 6 leather options.\n",
        "- Base finish options are: stainless steel, matte black,\n",
        "gloss white, or chrome.\n",
        "- Chair is available with or without armrests.\n",
        "- Suitable for home or business settings.\n",
        "- Qualified for contract use.\n",
        "\n",
        "CONSTRUCTION\n",
        "- 5-wheel plastic coated aluminum base.\n",
        "- Pneumatic chair adjust for easy raise/lower action.\n",
        "\n",
        "DIMENSIONS\n",
        "- WIDTH 53 CM | 20.87”\n",
        "- DEPTH 51 CM | 20.08”\n",
        "- HEIGHT 80 CM | 31.50”\n",
        "- SEAT HEIGHT 44 CM | 17.32”\n",
        "- SEAT DEPTH 41 CM | 16.14”\n",
        "\n",
        "OPTIONS\n",
        "- Soft or hard-floor caster options.\n",
        "- Two choices of seat foam densities:\n",
        " medium (1.8 lb/ft3) or high (2.8 lb/ft3)\n",
        "- Armless or 8 position PU armrests\n",
        "\n",
        "MATERIALS\n",
        "SHELL BASE GLIDER\n",
        "- Cast Aluminum with modified nylon PA6/PA66 coating.\n",
        "- Shell thickness: 10 mm.\n",
        "SEAT\n",
        "- HD36 foam\n",
        "\n",
        "COUNTRY OF ORIGIN\n",
        "- Italy\n",
        "\"\"\""
      ],
      "metadata": {
        "id": "ZXpOU5mLLJac"
      },
      "execution_count": null,
      "outputs": []
    },
    {
      "cell_type": "code",
      "source": [
        "prompt = f\"\"\"\n",
        "Your task is to help a marketing team create a\n",
        "description for a retail website of a product based\n",
        "on a technical fact sheet.\n",
        "\n",
        "Write a product description based on the information\n",
        "provided in the technical specifications delimited by\n",
        "triple backticks.\n",
        "\n",
        "Technical specifications: ```{fact_sheet_chair}```\n",
        "\"\"\"\n",
        "response = get_completion(prompt)\n",
        "print(response)\n"
      ],
      "metadata": {
        "id": "ZwHSrAgRLNGO",
        "colab": {
          "base_uri": "https://localhost:8080/"
        },
        "outputId": "9fd157dc-5726-4c67-c767-a9ddfd11ac8f"
      },
      "execution_count": null,
      "outputs": [
        {
          "output_type": "stream",
          "name": "stdout",
          "text": [
            "Introducing our stunning mid-century inspired office chair, the perfect addition to any home or business setting. This chair is part of a beautiful family of office furniture, including filing cabinets, desks, bookcases, meeting tables, and more, all designed with a timeless mid-century aesthetic.\n",
            "\n",
            "One of the standout features of this chair is the variety of customization options available. You can choose from several shell colors and base finishes to perfectly match your existing decor. Additionally, you have the choice between plastic back and front upholstery or full upholstery in a range of 10 fabric and 6 leather options. The base finish options include stainless steel, matte black, gloss white, or chrome. You can also opt for the chair with or without armrests, depending on your preference.\n",
            "\n",
            "Constructed with durability and comfort in mind, this chair features a 5-wheel plastic coated aluminum base for stability and mobility. The pneumatic chair adjustment allows for easy raise and lower action, ensuring a comfortable seating position for extended periods.\n",
            "\n",
            "In terms of dimensions, this chair measures 53 cm in width, 51 cm in depth, and 80 cm in height. The seat height is 44 cm, and the seat depth is 41 cm, providing ample space for a comfortable sitting experience.\n",
            "\n",
            "We understand that every space is unique, which is why we offer a range of options to suit your specific needs. You can choose between soft or hard-floor caster options, depending on the type of flooring in your space. Additionally, you have the choice between two seat foam densities: medium (1.8 lb/ft3) or high (2.8 lb/ft3). The chair is also available with armless design or 8 position PU armrests, allowing you to customize the chair to your liking.\n",
            "\n",
            "When it comes to materials, this chair is crafted with the utmost attention to quality. The shell base glider is made of cast aluminum with a modified nylon PA6/PA66 coating, ensuring durability and longevity. The shell thickness measures 10 mm, providing a sturdy and reliable structure. The seat is made with HD36 foam, offering a comfortable and supportive seating experience.\n",
            "\n",
            "Rest assured that this chair is of the highest quality, as it is qualified for contract use. It is designed to withstand the demands of commercial environments while maintaining its elegant and timeless appeal.\n",
            "\n",
            "Finally, this chair is proudly made in Italy, known for its exceptional craftsmanship and attention to detail. With its combination of style, functionality, and customization options, this mid-century inspired office chair is the perfect choice for those seeking a sophisticated and comfortable seating solution.\n"
          ]
        }
      ]
    },
    {
      "cell_type": "markdown",
      "source": [
        "The following displays some issues you may encounter when you see the answers given by the model, and you can learn how to fix them."
      ],
      "metadata": {
        "id": "yzgQ41QifI6e"
      }
    },
    {
      "cell_type": "markdown",
      "source": [
        "### **Issue 1: The text is too long**\n",
        "\n",
        "**Solution:** Limit the number of words/sentences/characters."
      ],
      "metadata": {
        "id": "DjSFz5XjLPot"
      }
    },
    {
      "cell_type": "code",
      "source": [
        "prompt = f\"\"\"\n",
        "Your task is to help a marketing team create a\n",
        "description for a retail website of a product based\n",
        "on a technical fact sheet.\n",
        "\n",
        "Write a product description based on the information\n",
        "provided in the technical specifications delimited by\n",
        "triple backticks.\n",
        "\n",
        "Use at most 50 words.\n",
        "\n",
        "Technical specifications: ```{fact_sheet_chair}```\n",
        "\"\"\"\n",
        "response = get_completion(prompt)\n",
        "print(response)\n"
      ],
      "metadata": {
        "id": "jilTNJJkLPW-",
        "colab": {
          "base_uri": "https://localhost:8080/"
        },
        "outputId": "1146b333-7484-47fa-974f-6f62a037d858"
      },
      "execution_count": null,
      "outputs": [
        {
          "output_type": "stream",
          "name": "stdout",
          "text": [
            "Introducing our mid-century inspired office chair, part of a beautiful furniture collection. With various color and finish options, choose between plastic or full upholstery in fabric or leather. The chair features a sturdy base, adjustable height, and is suitable for both home and business settings. Made in Italy.\n"
          ]
        }
      ]
    },
    {
      "cell_type": "code",
      "source": [
        "len(response) #len(response.split(\" \"))"
      ],
      "metadata": {
        "id": "XuE2E5crLYam",
        "colab": {
          "base_uri": "https://localhost:8080/"
        },
        "outputId": "0852c252-6cbd-4123-fa58-df2a5d67bdce"
      },
      "execution_count": null,
      "outputs": [
        {
          "output_type": "execute_result",
          "data": {
            "text/plain": [
              "316"
            ]
          },
          "metadata": {},
          "execution_count": 11
        }
      ]
    },
    {
      "cell_type": "markdown",
      "source": [
        "### **Issue 2. Text focuses on the wrong details**\n",
        "\n",
        "**Solution:** You should tell the model your aim to generate the description, who will be the potential reader of the description, etc."
      ],
      "metadata": {
        "id": "4M4_hFr3LayX"
      }
    },
    {
      "cell_type": "code",
      "source": [
        "#here is an example to generate product description focusing on technical details for furniture retailers\n",
        "\n",
        "prompt = f\"\"\"\n",
        "Your task is to help a marketing team create a\n",
        "description for a retail website of a product based\n",
        "on a technical fact sheet.\n",
        "\n",
        "Write a product description based on the information\n",
        "provided in the technical specifications delimited by\n",
        "triple backticks.\n",
        "\n",
        "The description is intended for furniture retailers,\n",
        "so should be technical in nature and focus on the\n",
        "materials the product is constructed from.\n",
        "\n",
        "Use at most 50 words.\n",
        "\n",
        "Technical specifications: ```{fact_sheet_chair}```\n",
        "\"\"\"\n",
        "response = get_completion(prompt)\n",
        "print(response)"
      ],
      "metadata": {
        "id": "cHECKet5LcS4",
        "colab": {
          "base_uri": "https://localhost:8080/"
        },
        "outputId": "f15076f3-a822-4a6b-ab76-b3812532c2b7"
      },
      "execution_count": null,
      "outputs": [
        {
          "output_type": "stream",
          "name": "stdout",
          "text": [
            "Introducing our mid-century inspired office chair, perfect for both home and business settings. Constructed with a durable cast aluminum shell and a 5-wheel plastic coated aluminum base for easy mobility. Choose from a variety of shell colors, base finishes, and upholstery options. Made in Italy.\n"
          ]
        }
      ]
    },
    {
      "cell_type": "code",
      "source": [
        "prompt = f\"\"\"\n",
        "Your task is to help a marketing team create a\n",
        "description for a retail website of a product based\n",
        "on a technical fact sheet.\n",
        "\n",
        "Write a product description based on the information\n",
        "provided in the technical specifications delimited by\n",
        "triple backticks.\n",
        "\n",
        "The description is intended for furniture retailers,\n",
        "so should be technical in nature and focus on the\n",
        "materials the product is constructed from.\n",
        "\n",
        "At the end of the description, include every 7-character\n",
        "Product ID in the technical specification.\n",
        "\n",
        "Use at most 50 words.\n",
        "\n",
        "Technical specifications: ```{fact_sheet_chair}```\n",
        "\"\"\"\n",
        "response = get_completion(prompt)\n",
        "print(response)"
      ],
      "metadata": {
        "id": "RRUe6r2fLjqa",
        "colab": {
          "base_uri": "https://localhost:8080/"
        },
        "outputId": "407cf74d-8313-4de5-8247-c14cf1e16ed9"
      },
      "execution_count": null,
      "outputs": [
        {
          "output_type": "stream",
          "name": "stdout",
          "text": [
            "Introducing our mid-century inspired office chair, perfect for both home and business settings. Constructed with a durable cast aluminum shell and a 5-wheel plastic coated aluminum base, this chair offers stability and mobility. Choose from a variety of shell colors and base finishes, as well as upholstery options in fabric or leather. With its adjustable height and comfortable seat, this chair is designed for maximum comfort and functionality. Available with or without armrests, and qualified for contract use. Product ID: SWC-100, SWC-110. Made in Italy.\n"
          ]
        }
      ]
    },
    {
      "cell_type": "markdown",
      "source": [
        "### **Issue 3. Description needs a table of dimensions**\n",
        "\n",
        "**Solution:** Ask it to extract information and organize it in a table (or any structured output)."
      ],
      "metadata": {
        "id": "jHOxNkjwLmFh"
      }
    },
    {
      "cell_type": "code",
      "source": [
        "prompt = f\"\"\"\n",
        "Your task is to help a marketing team create a\n",
        "description for a retail website of a product based\n",
        "on a technical fact sheet.\n",
        "\n",
        "Write a product description based on the information\n",
        "provided in the technical specifications delimited by\n",
        "triple backticks.\n",
        "\n",
        "The description is intended for furniture retailers,\n",
        "so should be technical in nature and focus on the\n",
        "materials the product is constructed from.\n",
        "\n",
        "At the end of the description, include every 7-character\n",
        "Product ID in the technical specification.\n",
        "\n",
        "After the description, include a table that gives the\n",
        "product's dimensions. The table should have two columns.\n",
        "In the first column include the name of the dimension.\n",
        "In the second column include the measurements in inches only.\n",
        "\n",
        "Give the table the title 'Product Dimensions'.\n",
        "\n",
        "Format everything as HTML that can be used in a website.\n",
        "Place the description in a <div> element.\n",
        "\n",
        "Technical specifications: ```{fact_sheet_chair}```\n",
        "\"\"\"\n",
        "\n",
        "response = get_completion(prompt)\n",
        "print(response)"
      ],
      "metadata": {
        "id": "76ZguVqiLqqn",
        "colab": {
          "base_uri": "https://localhost:8080/"
        },
        "outputId": "ef8f3f32-d3b9-4d9f-a959-3d938772133a"
      },
      "execution_count": null,
      "outputs": [
        {
          "output_type": "stream",
          "name": "stdout",
          "text": [
            "<div>\n",
            "  <h2>Product Description</h2>\n",
            "  <p>\n",
            "    The SWC-100 Office Chair is part of a beautiful family of mid-century inspired office furniture. This chair is designed to provide both style and functionality, making it a perfect addition to any home or business setting. With its sleek design and high-quality construction, this chair is suitable for both personal and professional use.\n",
            "  </p>\n",
            "  <p>\n",
            "    The SWC-100 Office Chair is available in several options of shell color and base finishes, allowing you to customize it to match your existing decor. You can choose between plastic back and front upholstery or full upholstery in a variety of fabric and leather options. The base finish options include stainless steel, matte black, gloss white, or chrome. Additionally, you have the choice of having the chair with or without armrests.\n",
            "  </p>\n",
            "  <p>\n",
            "    The construction of the SWC-100 Office Chair is built to last. It features a 5-wheel plastic coated aluminum base, providing stability and mobility. The chair also has a pneumatic adjuster, allowing for easy raise and lower action. This ensures that you can find the perfect height for your comfort and convenience.\n",
            "  </p>\n",
            "  <p>\n",
            "    The SWC-100 Office Chair is designed with your comfort in mind. It offers two choices of seat foam densities: medium (1.8 lb/ft3) or high (2.8 lb/ft3). This allows you to choose the level of support that suits your needs. Additionally, you can choose between soft or hard-floor caster options, depending on the type of flooring in your workspace. The chair also comes with the option of armless or 8 position PU armrests, providing additional comfort and versatility.\n",
            "  </p>\n",
            "  <p>\n",
            "    The SWC-100 Office Chair is made with high-quality materials to ensure durability and longevity. The shell base glider is constructed with cast aluminum and modified nylon PA6/PA66 coating, providing strength and stability. The seat is made with HD36 foam, offering a comfortable and supportive seating experience.\n",
            "  </p>\n",
            "  <p>\n",
            "    Made in Italy, the SWC-100 Office Chair is a testament to Italian craftsmanship and design. It is a high-quality piece of furniture that will enhance any office space.\n",
            "  </p>\n",
            "  <h2>Product Dimensions</h2>\n",
            "  <table>\n",
            "    <tr>\n",
            "      <th>Dimension</th>\n",
            "      <th>Measurement (inches)</th>\n",
            "    </tr>\n",
            "    <tr>\n",
            "      <td>Width</td>\n",
            "      <td>20.87\"</td>\n",
            "    </tr>\n",
            "    <tr>\n",
            "      <td>Depth</td>\n",
            "      <td>20.08\"</td>\n",
            "    </tr>\n",
            "    <tr>\n",
            "      <td>Height</td>\n",
            "      <td>31.50\"</td>\n",
            "    </tr>\n",
            "    <tr>\n",
            "      <td>Seat Height</td>\n",
            "      <td>17.32\"</td>\n",
            "    </tr>\n",
            "    <tr>\n",
            "      <td>Seat Depth</td>\n",
            "      <td>16.14\"</td>\n",
            "    </tr>\n",
            "  </table>\n",
            "</div>\n",
            "\n",
            "Product IDs: SWC-100, SWC-110\n"
          ]
        }
      ]
    },
    {
      "cell_type": "markdown",
      "source": [
        "**Load Python libraries to view HTML**"
      ],
      "metadata": {
        "id": "XsKGqu0rLumo"
      }
    },
    {
      "cell_type": "code",
      "source": [
        "from IPython.display import display, HTML"
      ],
      "metadata": {
        "id": "zQyVFnjsLvJf"
      },
      "execution_count": null,
      "outputs": []
    },
    {
      "cell_type": "code",
      "source": [
        "display(HTML(response))"
      ],
      "metadata": {
        "id": "PjAACi4mLxAn",
        "colab": {
          "base_uri": "https://localhost:8080/",
          "height": 497
        },
        "outputId": "526ea785-5d1b-4da3-e6c0-344e50a9ac15"
      },
      "execution_count": null,
      "outputs": [
        {
          "output_type": "display_data",
          "data": {
            "text/plain": [
              "<IPython.core.display.HTML object>"
            ],
            "text/html": [
              "<div>\n",
              "  <h2>Product Description</h2>\n",
              "  <p>\n",
              "    The SWC-100 Office Chair is part of a beautiful family of mid-century inspired office furniture. This chair is designed to provide both style and functionality, making it a perfect addition to any home or business setting. With its sleek design and high-quality construction, this chair is suitable for both personal and professional use.\n",
              "  </p>\n",
              "  <p>\n",
              "    The SWC-100 Office Chair is available in several options of shell color and base finishes, allowing you to customize it to match your existing decor. You can choose between plastic back and front upholstery or full upholstery in a variety of fabric and leather options. The base finish options include stainless steel, matte black, gloss white, or chrome. Additionally, you have the choice of having the chair with or without armrests.\n",
              "  </p>\n",
              "  <p>\n",
              "    The construction of the SWC-100 Office Chair is built to last. It features a 5-wheel plastic coated aluminum base, providing stability and mobility. The chair also has a pneumatic adjuster, allowing for easy raise and lower action. This ensures that you can find the perfect height for your comfort and convenience.\n",
              "  </p>\n",
              "  <p>\n",
              "    The SWC-100 Office Chair is designed with your comfort in mind. It offers two choices of seat foam densities: medium (1.8 lb/ft3) or high (2.8 lb/ft3). This allows you to choose the level of support that suits your needs. Additionally, you can choose between soft or hard-floor caster options, depending on the type of flooring in your workspace. The chair also comes with the option of armless or 8 position PU armrests, providing additional comfort and versatility.\n",
              "  </p>\n",
              "  <p>\n",
              "    The SWC-100 Office Chair is made with high-quality materials to ensure durability and longevity. The shell base glider is constructed with cast aluminum and modified nylon PA6/PA66 coating, providing strength and stability. The seat is made with HD36 foam, offering a comfortable and supportive seating experience.\n",
              "  </p>\n",
              "  <p>\n",
              "    Made in Italy, the SWC-100 Office Chair is a testament to Italian craftsmanship and design. It is a high-quality piece of furniture that will enhance any office space.\n",
              "  </p>\n",
              "  <h2>Product Dimensions</h2>\n",
              "  <table>\n",
              "    <tr>\n",
              "      <th>Dimension</th>\n",
              "      <th>Measurement (inches)</th>\n",
              "    </tr>\n",
              "    <tr>\n",
              "      <td>Width</td>\n",
              "      <td>20.87\"</td>\n",
              "    </tr>\n",
              "    <tr>\n",
              "      <td>Depth</td>\n",
              "      <td>20.08\"</td>\n",
              "    </tr>\n",
              "    <tr>\n",
              "      <td>Height</td>\n",
              "      <td>31.50\"</td>\n",
              "    </tr>\n",
              "    <tr>\n",
              "      <td>Seat Height</td>\n",
              "      <td>17.32\"</td>\n",
              "    </tr>\n",
              "    <tr>\n",
              "      <td>Seat Depth</td>\n",
              "      <td>16.14\"</td>\n",
              "    </tr>\n",
              "  </table>\n",
              "</div>\n",
              "\n",
              "Product IDs: SWC-100, SWC-110"
            ]
          },
          "metadata": {}
        }
      ]
    },
    {
      "cell_type": "code",
      "source": [],
      "metadata": {
        "id": "nfr7BZZ6LnHH"
      },
      "execution_count": null,
      "outputs": []
    }
  ]
}